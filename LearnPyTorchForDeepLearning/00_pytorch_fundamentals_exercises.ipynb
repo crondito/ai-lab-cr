{
 "cells": [
  {
   "cell_type": "markdown",
   "metadata": {
    "id": "AzDBM_v4iMe7"
   },
   "source": [
    "# 00. PyTorch Fundamentals Exercises\n",
    "\n",
    "### 1. Documentation reading\n",
    "\n",
    "A big part of deep learning (and learning to code in general) is getting familiar with the documentation of a certain framework you're using. We'll be using the PyTorch documentation a lot throughout the rest of this course. So I'd recommend spending 10-minutes reading the following (it's okay if you don't get some things for now, the focus is not yet full understanding, it's awareness):\n",
    "  * The documentation on [`torch.Tensor`](https://pytorch.org/docs/stable/tensors.html#torch-tensor).\n",
    "  * The documentation on [`torch.cuda`](https://pytorch.org/docs/master/notes/cuda.html#cuda-semantics).\n",
    "\n"
   ]
  },
  {
   "cell_type": "code",
   "execution_count": 1,
   "metadata": {
    "id": "bGD0oD8Kizak"
   },
   "outputs": [],
   "source": [
    "# No code solution (reading)"
   ]
  },
  {
   "cell_type": "markdown",
   "metadata": {
    "id": "__iXqqz-ioUJ"
   },
   "source": [
    "### 2. Create a random tensor with shape `(7, 7)`.\n"
   ]
  },
  {
   "cell_type": "code",
   "execution_count": 2,
   "metadata": {
    "colab": {
     "base_uri": "https://localhost:8080/"
    },
    "id": "6pUq9Dc8i2L7",
    "outputId": "195a3fdd-1089-4494-c9e7-6e5f26f5ae3b"
   },
   "outputs": [
    {
     "data": {
      "text/plain": [
       "tensor([[0.0676, 0.4822, 0.2888, 0.5064, 0.1517, 0.5420, 0.7192],\n",
       "        [0.7004, 0.2127, 0.3281, 0.1861, 0.2307, 0.5320, 0.0336],\n",
       "        [0.1147, 0.1524, 0.4046, 0.6970, 0.5342, 0.9639, 0.2510],\n",
       "        [0.2543, 0.4506, 0.4318, 0.7768, 0.9600, 0.0507, 0.7665],\n",
       "        [0.0652, 0.4203, 0.3489, 0.7899, 0.8537, 0.7688, 0.0765],\n",
       "        [0.5296, 0.6883, 0.6877, 0.0814, 0.2944, 0.0734, 0.6433],\n",
       "        [0.8411, 0.2863, 0.8543, 0.0930, 0.5275, 0.6428, 0.9234]])"
      ]
     },
     "execution_count": 2,
     "metadata": {},
     "output_type": "execute_result"
    }
   ],
   "source": [
    "# Import torch\n",
    "import torch\n",
    "\n",
    "# Create random tensor\n",
    "random_tensor = torch.rand(7, 7)\n",
    "random_tensor"
   ]
  },
  {
   "cell_type": "markdown",
   "metadata": {
    "id": "9-XxvRLfiqkR"
   },
   "source": [
    "### 3. Perform a matrix multiplication on the tensor from 2 with another random tensor with shape `(1, 7)` (hint: you may have to transpose the second tensor)."
   ]
  },
  {
   "cell_type": "code",
   "execution_count": 3,
   "metadata": {
    "colab": {
     "base_uri": "https://localhost:8080/"
    },
    "id": "NcLqR0Sbi_vT",
    "outputId": "71b5c0b7-60df-4f51-c818-4e742fbb715a"
   },
   "outputs": [
    {
     "name": "stdout",
     "output_type": "stream",
     "text": [
      "tensor([[0.8932, 0.6973, 0.0140, 0.0101, 0.5343, 0.5675, 0.0073],\n",
      "        [0.9612, 0.1627, 0.5032, 0.7827, 0.5927, 0.2288, 0.3246],\n",
      "        [0.6835, 0.6666, 0.0805, 0.9049, 0.0144, 0.5148, 0.2232],\n",
      "        [0.6757, 0.7290, 0.7292, 0.7951, 0.8178, 0.8522, 0.4808],\n",
      "        [0.4235, 0.1139, 0.3921, 0.6289, 0.1608, 0.3860, 0.7123],\n",
      "        [0.3036, 0.7785, 0.0210, 0.0521, 0.4509, 0.6368, 0.6729],\n",
      "        [0.8985, 0.8489, 0.7725, 0.6439, 0.2313, 0.1980, 0.2445]])\n",
      "tensor([[0.8353, 0.6897, 0.1263, 0.3001, 0.2569, 0.5893, 0.5860]])\n",
      "tensor([[1.7079],\n",
      "        [1.6908],\n",
      "        [1.7503],\n",
      "        [2.3919],\n",
      "        [1.3569],\n",
      "        [1.6943],\n",
      "        [1.9462]])\n"
     ]
    }
   ],
   "source": [
    "# Create another random tensor\n",
    "random_tensor2 = torch.rand(7, 7)\n",
    "print(random_tensor2)\n",
    "\n",
    "random_tensor3 = torch.rand(1, 7)\n",
    "print(random_tensor3)\n",
    "\n",
    "# Perform matrix multiplication\n",
    "\n",
    "print(torch.matmul(random_tensor2, random_tensor3.T))"
   ]
  },
  {
   "cell_type": "markdown",
   "metadata": {
    "id": "eiutdKUFiryU"
   },
   "source": [
    "### 4. Set the random seed to `0` and do 2 & 3 over again.\n",
    "\n",
    "The output should be:\n",
    "```\n",
    "(tensor([[1.8542],\n",
    "         [1.9611],\n",
    "         [2.2884],\n",
    "         [3.0481],\n",
    "         [1.7067],\n",
    "         [2.5290],\n",
    "         [1.7989]]), torch.Size([7, 1]))\n",
    "```"
   ]
  },
  {
   "cell_type": "code",
   "execution_count": 4,
   "metadata": {
    "colab": {
     "base_uri": "https://localhost:8080/"
    },
    "id": "D-lOWI_1jRMm",
    "outputId": "aac1a21d-7ebf-495f-c849-f806ca72bde7"
   },
   "outputs": [
    {
     "name": "stdout",
     "output_type": "stream",
     "text": [
      "tensor([[1.8542],\n",
      "        [1.9611],\n",
      "        [2.2884],\n",
      "        [3.0481],\n",
      "        [1.7067],\n",
      "        [2.5290],\n",
      "        [1.7989]]), torch.Size([7, 1])\n"
     ]
    }
   ],
   "source": [
    "# Set manual seed\n",
    "RANDOM_SEED=0\n",
    "torch.manual_seed(seed=RANDOM_SEED)\n",
    "\n",
    "# Create two random tensors\n",
    "random_tensor4 = torch.rand(7, 7)\n",
    "\n",
    "random_tensor5 = torch.rand(1, 7)\n",
    "\n",
    "# Matrix multiply tensors\n",
    "print(f'{torch.matmul(random_tensor4, random_tensor5.T)}, {torch.matmul(random_tensor4, random_tensor5.T).shape}')"
   ]
  },
  {
   "cell_type": "markdown",
   "metadata": {
    "id": "ezY6ks9Cis37"
   },
   "source": [
    "### 5. Speaking of random seeds, we saw how to set it with `torch.manual_seed()` but is there a GPU equivalent? (hint: you'll need to look into the documentation for `torch.cuda` for this one)\n",
    "  * If there is, set the GPU random seed to `1234`."
   ]
  },
  {
   "cell_type": "code",
   "execution_count": 5,
   "metadata": {
    "id": "_LKWcfSTjp00"
   },
   "outputs": [],
   "source": [
    "# Set random seed on the GPU\n",
    "import torch\n",
    "seed = 42\n",
    "torch.manual_seed(seed)               # for CPU\n",
    "torch.cuda.manual_seed(seed)          # for current GPU\n",
    "torch.cuda.manual_seed_all(seed)      # for all GPUs (multi-GPU setup)\n",
    "\n",
    "# For deterministic behavior (optional but useful for reproducibility)\n",
    "torch.backends.cudnn.deterministic = True\n",
    "torch.backends.cudnn.benchmark = False"
   ]
  },
  {
   "cell_type": "markdown",
   "metadata": {
    "id": "Ir9qSaj6it4n"
   },
   "source": [
    "\n",
    "### 6. Create two random tensors of shape `(2, 3)` and send them both to the GPU (you'll need access to a GPU for this). Set `torch.manual_seed(1234)` when creating the tensors (this doesn't have to be the GPU random seed). The output should be something like:\n",
    "\n",
    "```\n",
    "Device: cuda\n",
    "(tensor([[0.0290, 0.4019, 0.2598],\n",
    "         [0.3666, 0.0583, 0.7006]], device='cuda:0'),\n",
    " tensor([[0.0518, 0.4681, 0.6738],\n",
    "         [0.3315, 0.7837, 0.5631]], device='cuda:0'))\n",
    "```"
   ]
  },
  {
   "cell_type": "code",
   "execution_count": 6,
   "metadata": {
    "colab": {
     "base_uri": "https://localhost:8080/"
    },
    "id": "azXExiFZj5nm",
    "outputId": "e0bf7adf-126a-4aa1-c74c-7e6586989995"
   },
   "outputs": [
    {
     "name": "stdout",
     "output_type": "stream",
     "text": [
      "Device: mps\n"
     ]
    },
    {
     "data": {
      "text/plain": [
       "(tensor([[0.0290, 0.4019, 0.2598],\n",
       "         [0.3666, 0.0583, 0.7006]], device='mps:0'),\n",
       " tensor([[0.0518, 0.4681, 0.6738],\n",
       "         [0.3315, 0.7837, 0.5631]], device='mps:0'))"
      ]
     },
     "execution_count": 6,
     "metadata": {},
     "output_type": "execute_result"
    }
   ],
   "source": [
    "# Set random seed\n",
    "torch.manual_seed(1234)\n",
    "torch.cuda.manual_seed(1234)\n",
    "\n",
    "# Check for access to GPU\n",
    "if torch.cuda.is_available():\n",
    "    device = \"cuda\"\n",
    "elif torch.backends.mps.is_available() and torch.backends.mps.is_built():\n",
    "    device = \"mps\"\n",
    "else:\n",
    "    device = \"cpu\"\n",
    "print(f\"Device: {device}\")\n",
    "\n",
    "# Create two random tensors on GPU\n",
    "tensor_A = torch.rand(2, 3).to(device)\n",
    "tensor_B = torch.rand(2, 3).to(device)\n",
    "tensor_A, tensor_B"
   ]
  },
  {
   "cell_type": "markdown",
   "metadata": {
    "id": "5TlAxeiSiu1y"
   },
   "source": [
    "\n",
    "### 7. Perform a matrix multiplication on the tensors you created in 6 (again, you may have to adjust the shapes of one of the tensors).\n",
    "\n",
    "The output should look like:\n",
    "```\n",
    "(tensor([[0.3647, 0.4709],\n",
    "         [0.5184, 0.5617]], device='cuda:0'), torch.Size([2, 2]))\n",
    "```"
   ]
  },
  {
   "cell_type": "code",
   "execution_count": 7,
   "metadata": {
    "colab": {
     "base_uri": "https://localhost:8080/"
    },
    "id": "fAeG7ox0lHEO",
    "outputId": "b89372a2-5b16-48e2-ee48-e938874d49d9"
   },
   "outputs": [
    {
     "data": {
      "text/plain": [
       "(tensor([[0.3647, 0.4709],\n",
       "         [0.5184, 0.5617]], device='mps:0'),\n",
       " torch.Size([2, 2]))"
      ]
     },
     "execution_count": 7,
     "metadata": {},
     "output_type": "execute_result"
    }
   ],
   "source": [
    "# Perform matmul on tensor_A and tensor_B\n",
    "tensor_C = torch.matmul(tensor_A, tensor_B.T)\n",
    "tensor_C, tensor_C.shape"
   ]
  },
  {
   "cell_type": "markdown",
   "metadata": {
    "id": "G7qfa5CSivwg"
   },
   "source": [
    "### 8. Find the maximum and minimum values of the output of 7."
   ]
  },
  {
   "cell_type": "code",
   "execution_count": 8,
   "metadata": {
    "colab": {
     "base_uri": "https://localhost:8080/"
    },
    "id": "Fu8_3mZpllOd",
    "outputId": "0210e793-3954-43b4-9957-cad70ab957a8"
   },
   "outputs": [
    {
     "name": "stdout",
     "output_type": "stream",
     "text": [
      "Maximum value: 0.5617256760597229\n",
      "Minimum value: 0.3647301495075226\n"
     ]
    }
   ],
   "source": [
    "# Find max\n",
    "max_value = torch.max(tensor_C)\n",
    "print(f\"Maximum value: {max_value}\")\n",
    "# Find min\n",
    "min_value = torch.min(tensor_C)\n",
    "print(f\"Minimum value: {min_value}\")"
   ]
  },
  {
   "cell_type": "markdown",
   "metadata": {
    "id": "wrTj5FgNiw47"
   },
   "source": [
    "### 9. Find the maximum and minimum index values of the output of 7."
   ]
  },
  {
   "cell_type": "code",
   "execution_count": 9,
   "metadata": {
    "colab": {
     "base_uri": "https://localhost:8080/"
    },
    "id": "CCEKt4K2lsfQ",
    "outputId": "3dc8ddd2-4a67-4cea-9af3-1f8e01429e11"
   },
   "outputs": [
    {
     "name": "stdout",
     "output_type": "stream",
     "text": [
      "Maximum index: 3\n",
      "Minimum index: 0\n"
     ]
    }
   ],
   "source": [
    "# Find arg max\n",
    "max_index = torch.argmax(tensor_C)\n",
    "print(f\"Maximum index: {max_index}\")\n",
    "\n",
    "# Find arg min\n",
    "min_index = torch.argmin(tensor_C)\n",
    "print(f\"Minimum index: {min_index}\")"
   ]
  },
  {
   "cell_type": "markdown",
   "metadata": {
    "id": "hmeybz4uixy7"
   },
   "source": [
    "\n",
    "### 10. Make a random tensor with shape `(1, 1, 1, 10)` and then create a new tensor with all the `1` dimensions removed to be left with a tensor of shape `(10)`. Set the seed to `7` when you create it and print out the first tensor and it's shape as well as the second tensor and it's shape.\n",
    "\n",
    "The output should look like:\n",
    "\n",
    "```\n",
    "tensor([[[[0.5349, 0.1988, 0.6592, 0.6569, 0.2328, 0.4251, 0.2071, 0.6297,\n",
    "           0.3653, 0.8513]]]]) torch.Size([1, 1, 1, 10])\n",
    "tensor([0.5349, 0.1988, 0.6592, 0.6569, 0.2328, 0.4251, 0.2071, 0.6297, 0.3653,\n",
    "        0.8513]) torch.Size([10])\n",
    "```"
   ]
  },
  {
   "cell_type": "code",
   "execution_count": 10,
   "metadata": {
    "colab": {
     "base_uri": "https://localhost:8080/"
    },
    "id": "TQ9zbRzVl1jV",
    "outputId": "2c8c18dc-1eda-4fe2-e66e-f1b67859f1d3"
   },
   "outputs": [
    {
     "name": "stdout",
     "output_type": "stream",
     "text": [
      "tensor([[[[0.5349, 0.1988, 0.6592, 0.6569, 0.2328, 0.4251, 0.2071, 0.6297,\n",
      "           0.3653, 0.8513]]]]) torch.Size([1, 1, 1, 10])\n",
      "tensor([0.5349, 0.1988, 0.6592, 0.6569, 0.2328, 0.4251, 0.2071, 0.6297, 0.3653,\n",
      "        0.8513]) torch.Size([10])\n"
     ]
    }
   ],
   "source": [
    "# Set seed\n",
    "torch.manual_seed(7)\n",
    "\n",
    "# Create random tensor\n",
    "tensor_D = torch.rand(1, 1, 1, 10)\n",
    "\n",
    "# Remove single dimensions\n",
    "tensor_E = tensor_D.squeeze()\n",
    "\n",
    "# Print out tensors and their shapes\n",
    "print(tensor_D, tensor_D.shape)\n",
    "print(tensor_E, tensor_E.shape)"
   ]
  }
 ],
 "metadata": {
  "accelerator": "GPU",
  "colab": {
   "provenance": []
  },
  "kernelspec": {
   "display_name": "Python 3 (ipykernel)",
   "language": "python",
   "name": "python3"
  },
  "language_info": {
   "codemirror_mode": {
    "name": "ipython",
    "version": 3
   },
   "file_extension": ".py",
   "mimetype": "text/x-python",
   "name": "python",
   "nbconvert_exporter": "python",
   "pygments_lexer": "ipython3",
   "version": "3.9.6"
  }
 },
 "nbformat": 4,
 "nbformat_minor": 4
}
