{
 "cells": [
  {
   "cell_type": "markdown",
   "id": "1d9f7221-f71b-4545-84ce-43711a60a652",
   "metadata": {},
   "source": [
    "Train a neural network that takes a 4-bit input (e.g., [1, 0, 1, 1]) and outputs a one-hot encoded vector representing the number of 1s (from 0 to 4). There are 5 possible output classes."
   ]
  },
  {
   "cell_type": "code",
   "execution_count": 2,
   "id": "c2318b04-b98d-41a1-b2db-ba38acf8a325",
   "metadata": {},
   "outputs": [
    {
     "name": "stdout",
     "output_type": "stream",
     "text": [
      "\u001b[1m1/1\u001b[0m \u001b[32m━━━━━━━━━━━━━━━━━━━━\u001b[0m\u001b[37m\u001b[0m \u001b[1m0s\u001b[0m 50ms/step - accuracy: 1.0000 - loss: 0.0563\n",
      "Accuracy: 100.00%\n",
      "\u001b[1m1/1\u001b[0m \u001b[32m━━━━━━━━━━━━━━━━━━━━\u001b[0m\u001b[37m\u001b[0m \u001b[1m0s\u001b[0m 20ms/step\n",
      "Input: [0. 0. 0. 0.] → Predicted count: 0, Actual: 0\n",
      "Input: [0. 0. 0. 1.] → Predicted count: 1, Actual: 1\n",
      "Input: [0. 0. 1. 0.] → Predicted count: 1, Actual: 1\n",
      "Input: [0. 0. 1. 1.] → Predicted count: 2, Actual: 2\n",
      "Input: [0. 1. 0. 0.] → Predicted count: 1, Actual: 1\n",
      "Input: [0. 1. 0. 1.] → Predicted count: 2, Actual: 2\n",
      "Input: [0. 1. 1. 0.] → Predicted count: 2, Actual: 2\n",
      "Input: [0. 1. 1. 1.] → Predicted count: 3, Actual: 3\n",
      "Input: [1. 0. 0. 0.] → Predicted count: 1, Actual: 1\n",
      "Input: [1. 0. 0. 1.] → Predicted count: 2, Actual: 2\n",
      "Input: [1. 0. 1. 0.] → Predicted count: 2, Actual: 2\n",
      "Input: [1. 0. 1. 1.] → Predicted count: 3, Actual: 3\n",
      "Input: [1. 1. 0. 0.] → Predicted count: 2, Actual: 2\n",
      "Input: [1. 1. 0. 1.] → Predicted count: 3, Actual: 3\n",
      "Input: [1. 1. 1. 0.] → Predicted count: 3, Actual: 3\n",
      "Input: [1. 1. 1. 1.] → Predicted count: 4, Actual: 4\n"
     ]
    }
   ],
   "source": [
    "import numpy as np\n",
    "import tensorflow as tf\n",
    "from tensorflow.keras.utils import to_categorical\n",
    "\n",
    "# Generate all 4-bit combinations (from 0000 to 1111)\n",
    "trainx = np.array([[int(b) for b in format(i, '04b')] for i in range(16)], dtype=np.float32)\n",
    "\n",
    "# Count the number of 1's in each combination\n",
    "trainy = np.array([x.sum() for x in trainx], dtype=np.int32)\n",
    "\n",
    "# One-hot encode the labels (for 5 classes: 0,1,2,3,4)\n",
    "trainy_oh = to_categorical(trainy, num_classes=5)\n",
    "\n",
    "# Build the model\n",
    "model = tf.keras.Sequential([\n",
    "    tf.keras.Input(shape=(4,)),\n",
    "    tf.keras.layers.Dense(10, activation='relu'),\n",
    "    tf.keras.layers.Dense(10, activation='relu'),\n",
    "    tf.keras.layers.Dense(5, activation='softmax')\n",
    "])\n",
    "\n",
    "# Compile the model\n",
    "model.compile(optimizer='adam',\n",
    "              loss='categorical_crossentropy',\n",
    "              metrics=['accuracy'])\n",
    "\n",
    "# Train the model\n",
    "model.fit(trainx, trainy_oh, epochs=1000, batch_size=4, verbose=0)  # Set verbose=1 to watch progress\n",
    "\n",
    "# Evaluate the model\n",
    "loss, acc = model.evaluate(trainx, trainy_oh)\n",
    "print(f\"Accuracy: {acc*100:.2f}%\")\n",
    "\n",
    "# Test Predictions\n",
    "predictions = model.predict(trainx)\n",
    "for i, pred in enumerate(predictions):\n",
    "    print(f\"Input: {trainx[i]} → Predicted count: {np.argmax(pred)}, Actual: {trainy[i]}\")"
   ]
  }
 ],
 "metadata": {
  "kernelspec": {
   "display_name": "Python 3 (ipykernel)",
   "language": "python",
   "name": "python3"
  },
  "language_info": {
   "codemirror_mode": {
    "name": "ipython",
    "version": 3
   },
   "file_extension": ".py",
   "mimetype": "text/x-python",
   "name": "python",
   "nbconvert_exporter": "python",
   "pygments_lexer": "ipython3",
   "version": "3.9.6"
  }
 },
 "nbformat": 4,
 "nbformat_minor": 5
}
